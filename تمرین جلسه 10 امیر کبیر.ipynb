{
 "cells": [
  {
   "cell_type": "code",
   "execution_count": 14,
   "id": "0ea91ab2",
   "metadata": {},
   "outputs": [
    {
     "name": "stdout",
     "output_type": "stream",
     "text": [
      "تعداد reza در تاپل :  0\n",
      "('ali', 'mohammad', 'zahra', 'fatemrh', 'farid', 'hossein', 'javad', 'ali', 'farhad', 'sharareh', 'kezam') تاپل جدید بعد از حذف reza \n"
     ]
    }
   ],
   "source": [
    "# ها را از تاپل زیر حذف کند reza کدی بنویسید که تمام \n",
    "\n",
    "# توجه! اندیس اعضا را نمیدانیم و نمیتوانیم آنها را بشماریم\n",
    "\n",
    "x = (\"reza\",\"ali\",\"mohammad\",\"zahra\",\"fatemrh\",\"farid\",\"reza\",\"reza\",\"hossein\",\"javad\",\"reza\",\"ali\",\"farhad\",\"sharareh\",\"kezam\")\n",
    "\n",
    "x=list(x)\n",
    "\n",
    "c=x.count(\"reza\")\n",
    "\n",
    "for i in range(c):\n",
    "       x.remove(\"reza\")\n",
    "\n",
    "c_n=x.count (\"reza\")        \n",
    "        \n",
    "x=tuple(x)\n",
    "    \n",
    "print (\"تعداد reza در تاپل : \", c_n)\n",
    "\n",
    "print(x,\"تاپل جدید بعد از حذف reza \")    \n",
    "\n",
    "\n",
    "\n"
   ]
  },
  {
   "cell_type": "code",
   "execution_count": 5,
   "id": "f5f008c5",
   "metadata": {},
   "outputs": [
    {
     "name": "stdout",
     "output_type": "stream",
     "text": [
      "4\n"
     ]
    }
   ],
   "source": [
    "x = (\"reza\",\"ali\",\"mohammad\",\"zahra\",\"fatemrh\",\"farid\",\"reza\",\"reza\",\"hossein\",\"javad\",\"reza\",\"ali\",\"farhad\",\"sharareh\",\"kezam\")\n",
    "i=x.count(\"reza\")\n",
    "print(i)"
   ]
  }
 ],
 "metadata": {
  "kernelspec": {
   "display_name": "Python 3 (ipykernel)",
   "language": "python",
   "name": "python3"
  },
  "language_info": {
   "codemirror_mode": {
    "name": "ipython",
    "version": 3
   },
   "file_extension": ".py",
   "mimetype": "text/x-python",
   "name": "python",
   "nbconvert_exporter": "python",
   "pygments_lexer": "ipython3",
   "version": "3.10.0"
  }
 },
 "nbformat": 4,
 "nbformat_minor": 5
}
