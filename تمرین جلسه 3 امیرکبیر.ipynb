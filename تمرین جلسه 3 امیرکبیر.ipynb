{
 "cells": [
  {
   "cell_type": "code",
   "execution_count": 3,
   "id": "82fac9ae",
   "metadata": {},
   "outputs": [
    {
     "name": "stdout",
     "output_type": "stream",
     "text": [
      "a=1\n",
      "b=2\n",
      "c=1\n",
      "x1=x2= -1.0\n"
     ]
    }
   ],
   "source": [
    "# تمرین اول در سه حالت\n",
    "from math import *\n",
    "a=float(input('a='))\n",
    "b=float(input('b='))\n",
    "c=float(input('c='))\n",
    "Delta= pow(b,2)-(4*a*c) # (b**2)-(4*a*c) این دستور هم درست است\n",
    "if Delta>0:\n",
    "    x1=(-b+sqrt(Delta))/2*a\n",
    "    x2=(-b-sqrt(Delta))/2*a\n",
    "    print(\"x1=\",x1,'and x2=',x2)\n",
    "elif Delta==0:\n",
    "    x=-b/2*a\n",
    "    print(\"x1=x2=\",x)\n",
    "else: print(\"no answer\")    "
   ]
  },
  {
   "cell_type": "code",
   "execution_count": 4,
   "id": "3ad975c6",
   "metadata": {},
   "outputs": [
    {
     "name": "stdout",
     "output_type": "stream",
     "text": [
      "a=2\n",
      "b=8\n",
      "c=3\n",
      "x1= -1.675444679663241 and x2= -14.32455532033676\n"
     ]
    }
   ],
   "source": [
    "from math import *\n",
    "a=float(input('a='))\n",
    "b=float(input('b='))\n",
    "c=float(input('c='))\n",
    "Delta= pow(b,2)-(4*a*c) # (b**2)-(4*a*c) این دستور هم درست است\n",
    "if Delta>0:\n",
    "    x1=(-b+sqrt(Delta))/2*a\n",
    "    x2=(-b-sqrt(Delta))/2*a\n",
    "    print(\"x1=\",x1,'and x2=',x2)\n",
    "elif Delta==0:\n",
    "    x=-b/2*a\n",
    "    print(\"x1=x2=\",x)\n",
    "else: print(\"no answer\")    "
   ]
  },
  {
   "cell_type": "code",
   "execution_count": 6,
   "id": "fdf80a9a",
   "metadata": {},
   "outputs": [
    {
     "name": "stdout",
     "output_type": "stream",
     "text": [
      "a=8\n",
      "b=2\n",
      "c=18\n",
      "no answer\n"
     ]
    }
   ],
   "source": [
    "from math import *\n",
    "a=float(input('a='))\n",
    "b=float(input('b='))\n",
    "c=float(input('c='))\n",
    "Delta= pow(b,2)-(4*a*c) # (b**2)-(4*a*c) این دستور هم درست است\n",
    "if Delta>0:\n",
    "    x1=(-b+sqrt(Delta))/2*a\n",
    "    x2=(-b-sqrt(Delta))/2*a\n",
    "    print(\"x1=\",x1,'and x2=',x2)\n",
    "elif Delta==0:\n",
    "    x=-b/2*a\n",
    "    print(\"x1=x2=\",x)\n",
    "else: print(\"no answer\")    "
   ]
  },
  {
   "cell_type": "code",
   "execution_count": 10,
   "id": "d6dd844f",
   "metadata": {},
   "outputs": [
    {
     "name": "stdout",
     "output_type": "stream",
     "text": [
      "score=13.45\n",
      "your score is: 13.45 your score is good\n"
     ]
    }
   ],
   "source": [
    "# تمرین دوم\n",
    "x=float(input('score='))\n",
    "if x<10:\n",
    "    print('fail')\n",
    "elif 10<=x<15:\n",
    "    print('your score is:',x,'your grade is good')\n",
    "elif 15<=x<18:\n",
    "    print('your score is:',x,'your grade is very good')\n",
    "elif 18<=x<20:\n",
    "    print('your score is:',x,'your grade is excellent')\n",
    "else:\n",
    "    print('invalid grade')"
   ]
  },
  {
   "cell_type": "code",
   "execution_count": null,
   "id": "f422c9f2",
   "metadata": {},
   "outputs": [],
   "source": []
  }
 ],
 "metadata": {
  "kernelspec": {
   "display_name": "Python 3 (ipykernel)",
   "language": "python",
   "name": "python3"
  },
  "language_info": {
   "codemirror_mode": {
    "name": "ipython",
    "version": 3
   },
   "file_extension": ".py",
   "mimetype": "text/x-python",
   "name": "python",
   "nbconvert_exporter": "python",
   "pygments_lexer": "ipython3",
   "version": "3.10.0"
  }
 },
 "nbformat": 4,
 "nbformat_minor": 5
}
