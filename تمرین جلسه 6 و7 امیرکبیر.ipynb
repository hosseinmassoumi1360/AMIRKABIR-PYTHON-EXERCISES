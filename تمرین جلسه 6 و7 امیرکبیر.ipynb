{
 "cells": [
  {
   "cell_type": "code",
   "execution_count": 8,
   "id": "16178994",
   "metadata": {},
   "outputs": [
    {
     "name": "stdout",
     "output_type": "stream",
     "text": [
      "[1, -5, 9, 23, 'reza', 12, 1]\n"
     ]
    }
   ],
   "source": [
    "# تمرین جلسه 6\n",
    "x=[1,-5,9,23,12,1]\n",
    "x[4:4]=['reza']\n",
    "print(x)"
   ]
  },
  {
   "cell_type": "code",
   "execution_count": 9,
   "id": "74e01641",
   "metadata": {},
   "outputs": [
    {
     "name": "stdout",
     "output_type": "stream",
     "text": [
      "[1, -5, 12, 1]\n"
     ]
    }
   ],
   "source": [
    "x=[1,-5,9,23,12,1]\n",
    "x[2:4]=[]\n",
    "print(x)"
   ]
  },
  {
   "cell_type": "code",
   "execution_count": 12,
   "id": "33995d71",
   "metadata": {},
   "outputs": [
    {
     "name": "stdout",
     "output_type": "stream",
     "text": [
      "['ali', -5, 9, 23, 12, 1]\n"
     ]
    }
   ],
   "source": [
    "x=[1,-5,9,23,12,1]\n",
    "x[0]=\"ali\"\n",
    "print(x)"
   ]
  },
  {
   "cell_type": "code",
   "execution_count": 12,
   "id": "a25ed24a",
   "metadata": {},
   "outputs": [
    {
     "name": "stdout",
     "output_type": "stream",
     "text": [
      "t=150\n",
      "total wage is: 15000000.0\n",
      "t=180\n",
      "total wage is: 17000000.0\n",
      "t=210\n",
      "total wage is: 18000000\n"
     ]
    }
   ],
   "source": [
    "\n",
    "for i in range(1,4):\n",
    "    t=float(input('t='))\n",
    "    if t<=160:\n",
    "        normal=t*100000\n",
    "        total=normal\n",
    "        print('total wage is:',total)\n",
    "    if t>160 and t<=200:\n",
    "        normal=160*100000\n",
    "        extra=(t-160)*50000\n",
    "        total=normal+extra\n",
    "        print('total wage is:',total)\n",
    "    if t>200:\n",
    "        total=18000000\n",
    "        print('total wage is:',total)"
   ]
  },
  {
   "cell_type": "code",
   "execution_count": 2,
   "id": "cfff1d3e",
   "metadata": {},
   "outputs": [
    {
     "name": "stdout",
     "output_type": "stream",
     "text": [
      "[10, -5, 9, 23, 'reza', 12, 1]\n"
     ]
    }
   ],
   "source": [
    "# تمرین جلسه 7\n",
    "x=[10,-5,9,23,12,1]\n",
    "x.insert(4,'reza')\n",
    "print(x)"
   ]
  },
  {
   "cell_type": "code",
   "execution_count": 8,
   "id": "6698f85e",
   "metadata": {},
   "outputs": [
    {
     "name": "stdout",
     "output_type": "stream",
     "text": [
      "[10, -5, 12, 1]\n"
     ]
    }
   ],
   "source": [
    "x=[10,-5,9,23,12,1]\n",
    "for i in range(2):\n",
    "    x.pop(2)\n",
    "print(x)"
   ]
  },
  {
   "cell_type": "code",
   "execution_count": 9,
   "id": "90c0050d",
   "metadata": {},
   "outputs": [
    {
     "name": "stdout",
     "output_type": "stream",
     "text": [
      "[10, -5, 9, 23, 12, 'ali']\n"
     ]
    }
   ],
   "source": [
    "x=[10,-5,9,23,12,1]\n",
    "x.remove(1)\n",
    "x.append('ali')\n",
    "print(x)"
   ]
  },
  {
   "cell_type": "code",
   "execution_count": null,
   "id": "01395486",
   "metadata": {},
   "outputs": [],
   "source": []
  }
 ],
 "metadata": {
  "kernelspec": {
   "display_name": "Python 3 (ipykernel)",
   "language": "python",
   "name": "python3"
  },
  "language_info": {
   "codemirror_mode": {
    "name": "ipython",
    "version": 3
   },
   "file_extension": ".py",
   "mimetype": "text/x-python",
   "name": "python",
   "nbconvert_exporter": "python",
   "pygments_lexer": "ipython3",
   "version": "3.10.0"
  }
 },
 "nbformat": 4,
 "nbformat_minor": 5
}
