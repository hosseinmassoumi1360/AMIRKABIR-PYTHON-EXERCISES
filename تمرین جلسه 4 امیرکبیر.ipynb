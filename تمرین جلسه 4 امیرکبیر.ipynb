{
 "cells": [
  {
   "cell_type": "code",
   "execution_count": 5,
   "id": "44d107fa",
   "metadata": {},
   "outputs": [
    {
     "name": "stdout",
     "output_type": "stream",
     "text": [
      "x=21\n",
      "این عدد مضربی از سه بوده و بر سه بخش پذیر است\n"
     ]
    }
   ],
   "source": [
    "# .تمرین اول هم به صورت تابع و  هم غیر آن نوشته شده است. اول تابع\n",
    "def m(x):\n",
    "    if x%3==0:\n",
    "        print('این عدد مضربی از سه بوده و بر سه بخش پذیر است')\n",
    "    else:\n",
    "        print('این عدد مضربی از سه نبوده و بر سه بخش پذیر نیست')\n",
    "\n",
    "x=int(input('x='))\n",
    "m(x)"
   ]
  },
  {
   "cell_type": "code",
   "execution_count": 3,
   "id": "8c594249",
   "metadata": {},
   "outputs": [
    {
     "name": "stdout",
     "output_type": "stream",
     "text": [
      "x=22\n",
      "این عدد مضربی از سه نبوده و بر سه بخش پذیر نیست\n"
     ]
    }
   ],
   "source": [
    "# تمرین اول: به صورت غیر تابع\n",
    "x=int(input('x='))\n",
    "if x%3==0:\n",
    "    print('این عدد مضربی از سه بوده و بر سه بخش پذیر است')\n",
    "else:\n",
    "    print('این عدد مضربی از سه نبوده و بر سه بخش پذیر نیست')    "
   ]
  },
  {
   "cell_type": "code",
   "execution_count": 9,
   "id": "cb854182",
   "metadata": {},
   "outputs": [
    {
     "name": "stdout",
     "output_type": "stream",
     "text": [
      "enter a number here: 14\n",
      "این عدد مضربی از ۲ و ۷ است و باقیمانده تقسیم آن بر ۲ و ۷ صفر می شود\n"
     ]
    }
   ],
   "source": [
    "# تمرین 2\n",
    "def n(y):\n",
    "    if y%2==0 and y%7==0:\n",
    "        print(\"این عدد مضربی از ۲ و ۷ است و باقیمانده تقسیم آن بر ۲ و ۷ صفر می شود\")\n",
    "    else:\n",
    "        print(\"این عدد مضربی از ۲ و یا ۷ نیست بنا بر این باقیمانده تقسیم آن بر ۲ و یا ۷ صفر نمی شود\")\n",
    "        \n",
    "y=int(input(\"enter a number here: \"))\n",
    "n(y)"
   ]
  },
  {
   "cell_type": "code",
   "execution_count": 12,
   "id": "167786fa",
   "metadata": {},
   "outputs": [
    {
     "name": "stdout",
     "output_type": "stream",
     "text": [
      "x_1(cm)=5\n",
      "y_1(cm)=2\n",
      "x_2(cm)=7\n",
      "y_2(cm)=6\n",
      "distance between 2 points is: 4.47213595499958 cm\n"
     ]
    }
   ],
   "source": [
    "from math import *\n",
    "def D(x_1,x_2,y_1,y_2):\n",
    "    m=(x_2-x_1)**2\n",
    "    n=(y_2-y_1)**2\n",
    "    distance=sqrt(m+n)\n",
    "    print('distance between 2 points is:',distance,\"cm\")\n",
    "\n",
    "x_1=float(input(\"x_1(cm)=\"))\n",
    "y_1=float(input(\"y_1(cm)=\"))\n",
    "x_2=float(input(\"x_2(cm)=\"))\n",
    "y_2=float(input(\"y_2(cm)=\"))\n",
    "D(x_1,x_2,y_1,y_2)"
   ]
  },
  {
   "cell_type": "code",
   "execution_count": null,
   "id": "c47f6e21",
   "metadata": {},
   "outputs": [],
   "source": []
  }
 ],
 "metadata": {
  "kernelspec": {
   "display_name": "Python 3 (ipykernel)",
   "language": "python",
   "name": "python3"
  },
  "language_info": {
   "codemirror_mode": {
    "name": "ipython",
    "version": 3
   },
   "file_extension": ".py",
   "mimetype": "text/x-python",
   "name": "python",
   "nbconvert_exporter": "python",
   "pygments_lexer": "ipython3",
   "version": "3.10.0"
  }
 },
 "nbformat": 4,
 "nbformat_minor": 5
}
