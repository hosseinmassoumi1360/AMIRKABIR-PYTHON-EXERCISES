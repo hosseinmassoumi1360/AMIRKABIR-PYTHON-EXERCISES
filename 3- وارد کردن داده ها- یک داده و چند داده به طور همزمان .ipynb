{
 "cells": [
  {
   "cell_type": "code",
   "execution_count": 1,
   "id": "6f1bd634",
   "metadata": {},
   "outputs": [
    {
     "name": "stdout",
     "output_type": "stream",
     "text": [
      "name:Hossein\n",
      "last name:Massoumi\n",
      "Hossein Massoumi\n"
     ]
    }
   ],
   "source": [
    "# برای دریافت اطلاعات از کاربر input دستور\n",
    "# فقط در قالب رشته امکان دارد و نه عدد صحیح یا اعشار و غیره input اطلاعات دزیافتی در قالب\n",
    "a=input('name:')\n",
    "b=input('last name:')\n",
    "z=a+' '+b # قبلا گفته بودیم علامت + بین دو داده رشته آنها را ادغام میکند. توجه : علامت + باید بین متغیرهای هم نوع (رشته یا اینتجر یا فلوت یا ... باشد)\n",
    "print(z)\n",
    "# وقتی دستور ران میشود؛ از ما اسم و فامیل را می خواهد. حتی اگر در جای اسم و فامیل عدد بنویسیم؛ این اعداد را کتار هم می نویسد و آنها را جمع نمی کند. چون آنها را رشته در نظر میگیرد\n"
   ]
  },
  {
   "cell_type": "code",
   "execution_count": 2,
   "id": "793b72d2",
   "metadata": {},
   "outputs": [
    {
     "name": "stdout",
     "output_type": "stream",
     "text": [
      "x=3\n",
      "y=45\n",
      "48\n"
     ]
    }
   ],
   "source": [
    "# برای گرفتن اعداد و انجام عملیات ریاضی روی آنها استفاده کنیم باید اعداد دریافتی را که رشته در نظر میگیرد؛ به عدد تبدیل کنیم input اگر بخواهیم از دستور \n",
    "c=input('x=')\n",
    "d=input('y=')\n",
    "z=int(c)+int(d) # تبدیل رشته به شکل عدد صحیح (و نه عدد اعشاری) به عدد صحیح\n",
    "print(z)"
   ]
  },
  {
   "cell_type": "code",
   "execution_count": 3,
   "id": "04c3f8e4",
   "metadata": {},
   "outputs": [
    {
     "name": "stdout",
     "output_type": "stream",
     "text": [
      "e=111\n",
      "f=444\n",
      "e+f= 555.0\n"
     ]
    }
   ],
   "source": [
    "e=input('e=')\n",
    "f=input('f=')\n",
    "z=float(e)+float(f) # تبدیل رشته به شکل عدد اعشاری  (و نه عدد صحیح) به عدد اعشاری\n",
    "print(\"e+f=\",z)"
   ]
  },
  {
   "cell_type": "code",
   "execution_count": 4,
   "id": "480856b0",
   "metadata": {},
   "outputs": [
    {
     "name": "stdout",
     "output_type": "stream",
     "text": [
      "x=42.253\n",
      "y=325\n",
      "367.253\n"
     ]
    }
   ],
   "source": [
    "x=input('x=')\n",
    "y=input('y=')\n",
    "z=float(x)+int(y) # تبدیل رشته به شکل ترکیبی عدد اعشاری و صحیح به عدد اعشاری و صحیح\n",
    "# توجه: در این حالت نمیتوان همزمان رشته به شکل عدد اعشاری راا به عدد صحیح تبدیل نمود\n",
    "print(z)"
   ]
  },
  {
   "cell_type": "code",
   "execution_count": 7,
   "id": "7fa9dcbd",
   "metadata": {},
   "outputs": [
    {
     "name": "stdout",
     "output_type": "stream",
     "text": [
      "x325.256\n",
      "y2325\n",
      "2650.256\n"
     ]
    }
   ],
   "source": [
    "# میتوانیم از همان ابتدا رشته ها را به اعداد تبدیل کنیم\n",
    "x=float(input(\"x\")) # نگذاشتیم (x=)دقت کنید در نتیجه. چون اینجا \n",
    "y=int(input('y')) # نگذاشتیم (y=)دقت کنید در نتیجه. چون اینجا\n",
    "z=x+y\n",
    "print(z)"
   ]
  },
  {
   "cell_type": "code",
   "execution_count": 2,
   "id": "8f6aac36",
   "metadata": {},
   "outputs": [
    {
     "name": "stdout",
     "output_type": "stream",
     "text": [
      "x=3.7\n",
      "3.7 m= 370.0 cm\n"
     ]
    }
   ],
   "source": [
    "# مثال: ورودی: متر و سپس تبدیل به سانتی متر\n",
    "x= input('x=')\n",
    "y=float(x)*100\n",
    "print(x,'m=',y,'cm')\n",
    "# دستورات را میتوان اینگونه نیز نوشت: x=float(input('x=')) - y=(x)*100"
   ]
  },
  {
   "cell_type": "code",
   "execution_count": 2,
   "id": "d86268a2",
   "metadata": {},
   "outputs": [
    {
     "name": "stdout",
     "output_type": "stream",
     "text": [
      "please enter a number for x, y and z:125 545 363 \n",
      "x= 125  - y= 545  - z= 363\n"
     ]
    }
   ],
   "source": [
    "# split ورود چند داده همزمان با دستور \n",
    "x,y,z=input('please enter a number for x, y and z:').split()\n",
    "print('x=',x,' - y=',y,' - z=',z) #  را تشخیص دهد x , y , z وارد شوند تا برنامه، هریک از متغیرهای (space) توجه: در اجرای این دستور؛ داده ها باید با فاصله"
   ]
  },
  {
   "cell_type": "code",
   "execution_count": 3,
   "id": "2dcefe34",
   "metadata": {},
   "outputs": [
    {
     "name": "stdout",
     "output_type": "stream",
     "text": [
      "please enter a number for x, y and z:hossein sharareh farid\n",
      "x= hossein  - y= sharareh  - z= farid\n"
     ]
    }
   ],
   "source": [
    "# مثال 2\n",
    "x,y,z=input('please enter a number for x, y and z:').split()\n",
    "print('x=',x,' - y=',y,' - z=',z) #  را تشخیص دهد x , y , z وارد شوند تا برنامه، هریک از متغیرهای (space) توجه: در اجرای این دستور؛ داده ها باید با فاصله"
   ]
  },
  {
   "cell_type": "code",
   "execution_count": 4,
   "id": "a29a8d00",
   "metadata": {},
   "outputs": [
    {
     "name": "stdout",
     "output_type": "stream",
     "text": [
      "fill your 1-name 2-family 3-idnumber 4-city 5-post code in the form with space:hossein massoumi 0074606778 Tehran 148025632515\n",
      "first_name: hossein  / last_name: massoumi  / id_number: 0074606778  / city: Tehran  / post_code: 148025632515\n"
     ]
    }
   ],
   "source": [
    "# مثال 3\n",
    "a,b,c,d,e=input('fill your 1-name 2-family 3-idnumber 4-city 5-post code in the form with space:').split()\n",
    "print(\"first_name:\",a,\" / last_name:\",b,\" / id_number:\",c,\" / city:\",d,\" / post_code:\",e)"
   ]
  },
  {
   "cell_type": "code",
   "execution_count": null,
   "id": "35b21d39",
   "metadata": {},
   "outputs": [],
   "source": []
  }
 ],
 "metadata": {
  "kernelspec": {
   "display_name": "Python 3 (ipykernel)",
   "language": "python",
   "name": "python3"
  },
  "language_info": {
   "codemirror_mode": {
    "name": "ipython",
    "version": 3
   },
   "file_extension": ".py",
   "mimetype": "text/x-python",
   "name": "python",
   "nbconvert_exporter": "python",
   "pygments_lexer": "ipython3",
   "version": "3.10.0"
  }
 },
 "nbformat": 4,
 "nbformat_minor": 5
}
