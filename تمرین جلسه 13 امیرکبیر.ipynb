{
 "cells": [
  {
   "cell_type": "code",
   "execution_count": 7,
   "id": "c264598a",
   "metadata": {},
   "outputs": [
    {
     "name": "stdout",
     "output_type": "stream",
     "text": [
      "tota amount of penalties :  736000\n"
     ]
    }
   ],
   "source": [
    "penalty={\"001\":20000,\"002\":25000,\"003\":46000,\"004\":55000,\"005\":59000,\"006\":73000,\"007\":88000,\"008\":90000,\"009\":110000,\"010\":170000}\n",
    "s=0\n",
    "for i in penalty:\n",
    "    \n",
    "    s = s+penalty[i]   # مجموع کل اعضای لیست جریمه ها\n",
    "\n",
    "print (\"tota amount of penalties : \", s)"
   ]
  },
  {
   "cell_type": "code",
   "execution_count": 2,
   "id": "91d0f0cc",
   "metadata": {},
   "outputs": [
    {
     "name": "stdout",
     "output_type": "stream",
     "text": [
      "tota amount of penalties :  384000\n"
     ]
    }
   ],
   "source": [
    "penalty={\"001\":20000,\"002\":25000,\"003\":46000,\"004\":55000,\"005\":59000,\"006\":73000,\"007\":88000,\"008\":90000,\"009\":110000,\"010\":170000}\n",
    "\n",
    "police=[\"001\",\"002\",\"005\",\"009\",\"010\"] # منتخب لیست جریمه ها \n",
    "\n",
    "s=0\n",
    "\n",
    "for i in (police):\n",
    "    \n",
    "    s=s+penalty[i]   # مجموع منتخب لیست جریمه ها\n",
    "\n",
    "print (\"tota amount of penalties : \", s)"
   ]
  },
  {
   "cell_type": "code",
   "execution_count": null,
   "id": "b3d9e87e",
   "metadata": {},
   "outputs": [],
   "source": []
  }
 ],
 "metadata": {
  "kernelspec": {
   "display_name": "Python 3 (ipykernel)",
   "language": "python",
   "name": "python3"
  },
  "language_info": {
   "codemirror_mode": {
    "name": "ipython",
    "version": 3
   },
   "file_extension": ".py",
   "mimetype": "text/x-python",
   "name": "python",
   "nbconvert_exporter": "python",
   "pygments_lexer": "ipython3",
   "version": "3.10.0"
  }
 },
 "nbformat": 4,
 "nbformat_minor": 5
}
