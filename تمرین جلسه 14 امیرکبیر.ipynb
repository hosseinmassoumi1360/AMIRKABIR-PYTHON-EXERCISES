{
 "cells": [
  {
   "cell_type": "code",
   "execution_count": 1,
   "id": "3276a8c8",
   "metadata": {},
   "outputs": [
    {
     "name": "stdout",
     "output_type": "stream",
     "text": [
      "n=5\n",
      "name=ali\n",
      "age=34\n",
      "name=reza\n",
      "age=52\n",
      "name=samaneh\n",
      "age=13\n",
      "name=abbas\n",
      "age=67\n",
      "name=zahra\n",
      "age=22\n",
      "{'ali': 34.0, 'reza': 52.0, 'samaneh': 13.0, 'abbas': 67.0, 'zahra': 22.0}\n"
     ]
    }
   ],
   "source": [
    "n = int (input(\"n=\"))\n",
    "\n",
    "x=[]\n",
    "\n",
    "for i in range (n):\n",
    "    \n",
    "    y=[input(\"name=\"), float(input (\"age=\"))]\n",
    "    \n",
    "    x.append(y)\n",
    "    \n",
    "print (dict(x))  "
   ]
  },
  {
   "cell_type": "code",
   "execution_count": null,
   "id": "7a73f875",
   "metadata": {},
   "outputs": [],
   "source": []
  }
 ],
 "metadata": {
  "kernelspec": {
   "display_name": "Python 3 (ipykernel)",
   "language": "python",
   "name": "python3"
  },
  "language_info": {
   "codemirror_mode": {
    "name": "ipython",
    "version": 3
   },
   "file_extension": ".py",
   "mimetype": "text/x-python",
   "name": "python",
   "nbconvert_exporter": "python",
   "pygments_lexer": "ipython3",
   "version": "3.10.0"
  }
 },
 "nbformat": 4,
 "nbformat_minor": 5
}
