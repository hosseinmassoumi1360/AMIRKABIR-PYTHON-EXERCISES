{
 "cells": [
  {
   "cell_type": "code",
   "execution_count": 5,
   "id": "fdf55a3d",
   "metadata": {},
   "outputs": [
    {
     "name": "stdout",
     "output_type": "stream",
     "text": [
      "n=5\n",
      "x=2\n",
      "x=4\n",
      "x=6\n",
      "x=7\n",
      "x=8\n",
      "s= 169.0 r= 13.0\n",
      "--------------------------\n",
      "n: تعداد اعداد دریافتی\n",
      "x: اعداد دریافتی\n",
      "s: جمع مربعات اعداد دریافتی\n",
      "r: مجذور جمع مربعات اعداد دریافتی\n"
     ]
    }
   ],
   "source": [
    "# تمرین جلسه 5 با اعداد دریافتی \n",
    "from math import *\n",
    "n=int(input('n='))\n",
    "s=0\n",
    "for i in range(n):\n",
    "    x=float(input('x='))\n",
    "    y=x**2\n",
    "    s=s+y\n",
    "r=sqrt(s)\n",
    "print('s=',s,'r=',r)\n",
    "print('--------------------------')\n",
    "print('n: تعداد اعداد دریافتی')\n",
    "print('x: اعداد دریافتی')\n",
    "print('s: جمع مربعات اعداد دریافتی')\n",
    "print('r: مجذور جمع مربعات اعداد دریافتی')"
   ]
  },
  {
   "cell_type": "code",
   "execution_count": 9,
   "id": "7e727c10",
   "metadata": {},
   "outputs": [
    {
     "name": "stdout",
     "output_type": "stream",
     "text": [
      "n=5\n",
      "s= 55 r= 7.416198487095663\n",
      "--------------------------\n",
      "s: n جمع مربعات اعداد 1 تا\n",
      "r: n مجذور جمع مربعات اعداد 1 تا\n"
     ]
    }
   ],
   "source": [
    "#  n تمرین جلسه 5 با اعداد 1 تا  \n",
    "from math import *\n",
    "n=int(input('n='))\n",
    "s=0\n",
    "for i in range(1,n+1):\n",
    "    x=i**2    # i=i**2  هم می توان نوشت. به این صورت i این دستور را با \n",
    "    s=s+x     # s=s+i   نوشت. به این صورت i بنویسیم، دستور این خط را هم باید با i البته اگر دستور بالا را با  \n",
    "r=sqrt(s)\n",
    "print('s=',s,'r=',r)\n",
    "print('--------------------------')\n",
    "print('s: n جمع مربعات اعداد 1 تا')\n",
    "print('r: n مجذور جمع مربعات اعداد 1 تا')"
   ]
  },
  {
   "cell_type": "code",
   "execution_count": null,
   "id": "24864e9f",
   "metadata": {},
   "outputs": [],
   "source": []
  }
 ],
 "metadata": {
  "kernelspec": {
   "display_name": "Python 3 (ipykernel)",
   "language": "python",
   "name": "python3"
  },
  "language_info": {
   "codemirror_mode": {
    "name": "ipython",
    "version": 3
   },
   "file_extension": ".py",
   "mimetype": "text/x-python",
   "name": "python",
   "nbconvert_exporter": "python",
   "pygments_lexer": "ipython3",
   "version": "3.10.0"
  }
 },
 "nbformat": 4,
 "nbformat_minor": 5
}
