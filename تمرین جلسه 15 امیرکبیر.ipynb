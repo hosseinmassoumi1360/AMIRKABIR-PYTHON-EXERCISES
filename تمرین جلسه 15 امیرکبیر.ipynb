{
 "cells": [
  {
   "cell_type": "code",
   "execution_count": 28,
   "id": "58d9381a",
   "metadata": {},
   "outputs": [
    {
     "name": "stdout",
     "output_type": "stream",
     "text": [
      "intersections:  (31200, 200000, 45000, 38000, 51000)\n",
      "                                                  \n",
      "==================================================\n",
      "                                                  \n",
      "differences ('PORSCHE', 'MINIMINER', 'panamera', 'cayenne', '428i', 'x6', '730i', 'RENAULT', 'macan', 'megan', 'BENZ', 'BMW', 'talisman')\n"
     ]
    }
   ],
   "source": [
    "tuple_1 = (31200,200000,45000,51000,38000,\"BMW\",\"BENZ\",\"PORSCHE\",\"RENAULT\",\"MINIMINER\")\n",
    "\n",
    "tuple_2 = (\"x6\",\"730i\",\"428i\",\"macan\",\"cayenne\", \"panamera\", \"talisman\",\"megan\", 31200,200000,51000,45000,38000 )\n",
    "\n",
    "print (\"intersections: \",tuple((set(tuple_1)) & (set(tuple_2))))\n",
    "\n",
    "print(50*\" \")\n",
    "print(50*\"=\")\n",
    "print(50*\" \")\n",
    "\n",
    "print (\"differences\",tuple((set(tuple_1)).symmetric_difference(set(tuple_2))))\n"
   ]
  },
  {
   "cell_type": "code",
   "execution_count": 29,
   "id": "d3bdf315",
   "metadata": {},
   "outputs": [
    {
     "name": "stdout",
     "output_type": "stream",
     "text": [
      "intersections:  (31200, 200000, 45000, 38000, 51000)\n",
      "                                                  \n",
      "==================================================\n",
      "                                                  \n",
      "differences ('PORSCHE', 'MINIMINER', 'panamera', 'cayenne', '428i', 'x6', '730i', 'RENAULT', 'macan', 'megan', 'BENZ', 'BMW', 'talisman')\n"
     ]
    }
   ],
   "source": [
    "# intersection با تابع\n",
    "\n",
    "tuple_1 = (31200,200000,45000,51000,38000,\"BMW\",\"BENZ\",\"PORSCHE\",\"RENAULT\",\"MINIMINER\")\n",
    "\n",
    "tuple_2 = (\"x6\",\"730i\",\"428i\",\"macan\",\"cayenne\", \"panamera\", \"talisman\",\"megan\", 31200,200000,51000,45000,38000 )\n",
    "\n",
    "print (\"intersections: \",tuple((set(tuple_1)).intersection(set(tuple_2))))\n",
    "\n",
    "print(50*\" \")\n",
    "print(50*\"=\")\n",
    "print(50*\" \")\n",
    "\n",
    "print (\"differences\",tuple((set(tuple_1)).symmetric_difference(set(tuple_2))))"
   ]
  },
  {
   "cell_type": "code",
   "execution_count": null,
   "id": "7217d0b5",
   "metadata": {},
   "outputs": [],
   "source": []
  }
 ],
 "metadata": {
  "kernelspec": {
   "display_name": "Python 3 (ipykernel)",
   "language": "python",
   "name": "python3"
  },
  "language_info": {
   "codemirror_mode": {
    "name": "ipython",
    "version": 3
   },
   "file_extension": ".py",
   "mimetype": "text/x-python",
   "name": "python",
   "nbconvert_exporter": "python",
   "pygments_lexer": "ipython3",
   "version": "3.10.0"
  }
 },
 "nbformat": 4,
 "nbformat_minor": 5
}
