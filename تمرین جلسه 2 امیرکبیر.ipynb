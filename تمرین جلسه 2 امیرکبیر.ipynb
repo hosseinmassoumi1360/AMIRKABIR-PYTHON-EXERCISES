{
 "cells": [
  {
   "cell_type": "code",
   "execution_count": 2,
   "id": "bd4c356f",
   "metadata": {},
   "outputs": [
    {
     "name": "stdout",
     "output_type": "stream",
     "text": [
      "1.7976318937755134\n"
     ]
    }
   ],
   "source": [
    "from math import *\n",
    "x=2\n",
    "y=sqrt(exp(-x)+log(x)+abs(1/(cos(x))))\n",
    "print (y)"
   ]
  },
  {
   "cell_type": "code",
   "execution_count": 3,
   "id": "a9acbc23",
   "metadata": {},
   "outputs": [
    {
     "name": "stdout",
     "output_type": "stream",
     "text": [
      "0.03490658503988659\n"
     ]
    }
   ],
   "source": [
    "x=2\n",
    "Theta= (x/180)*pi\n",
    "print (Theta)"
   ]
  },
  {
   "cell_type": "code",
   "execution_count": null,
   "id": "4a8ac379",
   "metadata": {},
   "outputs": [],
   "source": []
  }
 ],
 "metadata": {
  "kernelspec": {
   "display_name": "Python 3 (ipykernel)",
   "language": "python",
   "name": "python3"
  },
  "language_info": {
   "codemirror_mode": {
    "name": "ipython",
    "version": 3
   },
   "file_extension": ".py",
   "mimetype": "text/x-python",
   "name": "python",
   "nbconvert_exporter": "python",
   "pygments_lexer": "ipython3",
   "version": "3.10.0"
  }
 },
 "nbformat": 4,
 "nbformat_minor": 5
}
