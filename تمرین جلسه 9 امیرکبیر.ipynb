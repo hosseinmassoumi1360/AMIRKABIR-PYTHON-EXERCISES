{
 "cells": [
  {
   "cell_type": "code",
   "execution_count": 2,
   "id": "21a48306",
   "metadata": {},
   "outputs": [
    {
     "name": "stdout",
     "output_type": "stream",
     "text": [
      "enter the number of raws and columns of matrix then press enter  :4\n",
      " the matrix you've chosen is  4 in 4\n",
      "now enter elements\n",
      "enther the elemans of matrix =1\n",
      "enther the elemans of matrix =2\n",
      "enther the elemans of matrix =3\n",
      "enther the elemans of matrix =4\n",
      "enther the elemans of matrix =5\n",
      "enther the elemans of matrix =6\n",
      "enther the elemans of matrix =7\n",
      "enther the elemans of matrix =8\n",
      "enther the elemans of matrix =9\n",
      "enther the elemans of matrix =10\n",
      "enther the elemans of matrix =11\n",
      "enther the elemans of matrix =12\n",
      "enther the elemans of matrix =13\n",
      "enther the elemans of matrix =14\n",
      "enther the elemans of matrix =15\n",
      "enther the elemans of matrix =16\n",
      "[[1.0, 2.0, 3.0, 4.0], [5.0, 6.0, 7.0, 8.0], [9.0, 10.0, 11.0, 12.0], [13.0, 14.0, 15.0, 16.0]]\n",
      "================================================\n",
      "[1.0, 2.0, 3.0, 4.0]\n",
      "[5.0, 6.0, 7.0, 8.0]\n",
      "[9.0, 10.0, 11.0, 12.0]\n",
      "[13.0, 14.0, 15.0, 16.0]\n",
      "================================================\n",
      "trace of this matrix is =   34.0\n"
     ]
    }
   ],
   "source": [
    "# تشکیل یک لیست تو در تو (ماتریس) و محاسبه جمع اعضای قطر اصلی آن\n",
    "\n",
    "# برای محاسبه اعضای قطر اصلی، ماتریس باید مربعی باشد (تعداد سطرها با ستون ها برابر باشد)\n",
    "\n",
    "\n",
    "r= int (input(\"enter the number of raws and columns of matrix then press enter  :\"))\n",
    "\n",
    "print (\" the matrix you've chosen is \",r,\"in\",r)\n",
    "\n",
    "print (\"now enter elements\")\n",
    "\n",
    "y=[]\n",
    "\n",
    "for l in range (r):\n",
    "    \n",
    "    x=[]\n",
    "\n",
    "    for i in range (r):\n",
    "    \n",
    "        a=float(input(\"enther the elemans of matrix =\"))\n",
    "    \n",
    "        x.append(a)\n",
    "    \n",
    "    y.append(x)\n",
    "\n",
    "t=0\n",
    "\n",
    "for k in range (r):\n",
    "    t=t+y[k][k] \n",
    "    \n",
    "    \n",
    "print (y)\n",
    "\n",
    "\n",
    "print (48*\"=\")\n",
    "\n",
    "for r in y:   # خروجی به شکل ماتریس\n",
    "    print (r) \n",
    "    \n",
    "    \n",
    "print (48*\"=\")\n",
    "\n",
    "\n",
    "\n",
    "print (\"trace of this matrix is =  \", t)"
   ]
  },
  {
   "cell_type": "code",
   "execution_count": null,
   "id": "0b741ec2",
   "metadata": {},
   "outputs": [],
   "source": []
  }
 ],
 "metadata": {
  "kernelspec": {
   "display_name": "Python 3 (ipykernel)",
   "language": "python",
   "name": "python3"
  },
  "language_info": {
   "codemirror_mode": {
    "name": "ipython",
    "version": 3
   },
   "file_extension": ".py",
   "mimetype": "text/x-python",
   "name": "python",
   "nbconvert_exporter": "python",
   "pygments_lexer": "ipython3",
   "version": "3.10.0"
  }
 },
 "nbformat": 4,
 "nbformat_minor": 5
}
